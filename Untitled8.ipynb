{
  "nbformat": 4,
  "nbformat_minor": 0,
  "metadata": {
    "colab": {
      "provenance": [],
      "authorship_tag": "ABX9TyOY8g+/4qETpBKu25/vrXu+",
      "include_colab_link": true
    },
    "kernelspec": {
      "name": "python3",
      "display_name": "Python 3"
    },
    "language_info": {
      "name": "python"
    }
  },
  "cells": [
    {
      "cell_type": "markdown",
      "metadata": {
        "id": "view-in-github",
        "colab_type": "text"
      },
      "source": [
        "<a href=\"https://colab.research.google.com/github/rogeriocgp/Udemy---Estudos-de-Python-3/blob/main/Untitled8.ipynb\" target=\"_parent\"><img src=\"https://colab.research.google.com/assets/colab-badge.svg\" alt=\"Open In Colab\"/></a>"
      ]
    },
    {
      "cell_type": "markdown",
      "source": [
        "**UDEMY**\n",
        "\n",
        "Aula 25 - Primeiro exemplo\n",
        "Atalho para rodar o programa : **Ctrl + enter**"
      ],
      "metadata": {
        "id": "B_5Atg_8OPwR"
      }
    },
    {
      "cell_type": "code",
      "source": [
        "print(\"Olá mundo!\")\n",
        "print(\"primeiro programa\")\n",
        "print(2 + 3 + 6)\n",
        "\n",
        "help(print)"
      ],
      "metadata": {
        "id": "uSwIGExHOYJr"
      },
      "execution_count": null,
      "outputs": []
    },
    {
      "cell_type": "markdown",
      "source": [
        "Aula 26 - Tipos básicos"
      ],
      "metadata": {
        "id": "5Y7BeQ5vT5on"
      }
    },
    {
      "cell_type": "code",
      "source": [
        "print(\"True\")     #Tipo boolean\n",
        "print(\"False\")\n",
        "print(1.2 + 1)     # Tipo float\n",
        "print(\"A vida é bela.\")\n",
        "print(\"Você é \" + 3 * \" muito \" + \" legal \") # concatenação\n",
        "# print(3 + \"3\")     # Erro , dá uma ambiguidade\n",
        "print([1, 2, 3])     # Tipo Lista. Ela é indexada\n",
        "print({\"nome\": \"Pedro\", \"idade\": 22})    # Tipo dicionário é uma estrutura chave valor\n",
        "print(None)    # Tipo None é ausência de valor"
      ],
      "metadata": {
        "id": "6vDLAwyET9gx"
      },
      "execution_count": null,
      "outputs": []
    },
    {
      "cell_type": "markdown",
      "source": [
        "**Aula 27 - Variáveis**"
      ],
      "metadata": {
        "id": "Uuj3boyxYtYI"
      }
    },
    {
      "cell_type": "code",
      "source": [
        "a = 10  # atribuição na variável\n",
        "b = 5.2\n",
        "\n",
        "print(a + b)\n",
        "print(type(b))"
      ],
      "metadata": {
        "colab": {
          "base_uri": "https://localhost:8080/"
        },
        "id": "O0iez-UdY2WW",
        "outputId": "b8434a06-35ae-41fe-ccd9-b1356973dde4"
      },
      "execution_count": null,
      "outputs": [
        {
          "output_type": "stream",
          "name": "stdout",
          "text": [
            "15.2\n",
            "<class 'float'>\n"
          ]
        }
      ]
    },
    {
      "cell_type": "markdown",
      "source": [
        "**Aula 28 - Comentários**"
      ],
      "metadata": {
        "id": "JgeBDZjRbwl_"
      }
    },
    {
      "cell_type": "code",
      "source": [
        "# Atalho para comentários : Ctrl + /\n",
        "salario = 3450.45\n",
        "despesas = 2456.2\n",
        "\n",
        "print(salario - despesas)\n",
        "\n",
        "\"\"\"\n",
        "Comentário com\n",
        "várias linhas.\n",
        "\"\"\""
      ],
      "metadata": {
        "id": "T0uSb2LBb63G"
      },
      "execution_count": null,
      "outputs": []
    },
    {
      "cell_type": "markdown",
      "source": [
        "**Aula 29 - Operadores aritméticos**"
      ],
      "metadata": {
        "id": "NMi6bdbPFlat"
      }
    },
    {
      "cell_type": "code",
      "source": [
        "print(2 + 3)\n",
        "print(4 - 3)\n",
        "print(2 * 5.3)\n",
        "print(9.4 / 3)     #Divisão\n",
        "print(9.4 // 3)    #Divisão inteira\n",
        "print(2 ** 8)      #Potenciação\n",
        "print(10 % 3)      #Resto da divisão\n",
        "\n",
        "a = 12\n",
        "b = a\n",
        "print(a + b)"
      ],
      "metadata": {
        "colab": {
          "base_uri": "https://localhost:8080/"
        },
        "id": "vLOEOP-_FtLP",
        "outputId": "70cc35ea-03bc-4272-dc36-2aef9a9ab569"
      },
      "execution_count": 5,
      "outputs": [
        {
          "output_type": "stream",
          "name": "stdout",
          "text": [
            "5\n",
            "1\n",
            "10.6\n",
            "3.1333333333333333\n",
            "3.0\n",
            "256\n",
            "1\n",
            "24\n"
          ]
        }
      ]
    }
  ]
}