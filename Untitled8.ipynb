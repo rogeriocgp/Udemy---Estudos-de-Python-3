{
  "nbformat": 4,
  "nbformat_minor": 0,
  "metadata": {
    "colab": {
      "provenance": [],
      "authorship_tag": "ABX9TyNi8Ff0veRCIrYSF6P9tBkc",
      "include_colab_link": true
    },
    "kernelspec": {
      "name": "python3",
      "display_name": "Python 3"
    },
    "language_info": {
      "name": "python"
    }
  },
  "cells": [
    {
      "cell_type": "markdown",
      "metadata": {
        "id": "view-in-github",
        "colab_type": "text"
      },
      "source": [
        "<a href=\"https://colab.research.google.com/github/rogeriocgp/Udemy---Estudos-de-Python-3/blob/main/Untitled8.ipynb\" target=\"_parent\"><img src=\"https://colab.research.google.com/assets/colab-badge.svg\" alt=\"Open In Colab\"/></a>"
      ]
    },
    {
      "cell_type": "markdown",
      "source": [
        "**UDEMY**\n",
        "\n",
        "Aula 25 - Primeiro exemplo\n",
        "Atalho para rodar o programa : **Ctrl + enter**"
      ],
      "metadata": {
        "id": "B_5Atg_8OPwR"
      }
    },
    {
      "cell_type": "code",
      "source": [
        "print(\"Olá mundo!\")\n",
        "print(\"primeiro programa\")\n",
        "print(2 + 3 + 6)\n",
        "\n",
        "help(print)"
      ],
      "metadata": {
        "id": "uSwIGExHOYJr"
      },
      "execution_count": null,
      "outputs": []
    },
    {
      "cell_type": "markdown",
      "source": [
        "Aula 26 - Tipos básicos"
      ],
      "metadata": {
        "id": "5Y7BeQ5vT5on"
      }
    },
    {
      "cell_type": "code",
      "source": [
        "print(\"True\")     #Tipo boolean\n",
        "print(\"False\")\n",
        "print(1.2 + 1)     # Tipo float\n",
        "print(\"A vida é bela.\")\n",
        "print(\"Você é \" + 3 * \" muito \" + \" legal \") # concatenação\n",
        "# print(3 + \"3\")     # Erro , dá uma ambiguidade\n",
        "print([1, 2, 3])     # Tipo Lista. Ela é indexada\n",
        "print({\"nome\": \"Pedro\", \"idade\": 22})    # Tipo dicionário é uma estrutura chave valor\n",
        "print(None)    # Tipo None é ausência de valor"
      ],
      "metadata": {
        "id": "6vDLAwyET9gx"
      },
      "execution_count": null,
      "outputs": []
    },
    {
      "cell_type": "markdown",
      "source": [
        "**Aula 27 - Variáveis**"
      ],
      "metadata": {
        "id": "Uuj3boyxYtYI"
      }
    },
    {
      "cell_type": "code",
      "source": [
        "a = 10  # atribuição na variável\n",
        "b = 5.2\n",
        "\n",
        "print(a + b)\n",
        "print(type(b))"
      ],
      "metadata": {
        "colab": {
          "base_uri": "https://localhost:8080/"
        },
        "id": "O0iez-UdY2WW",
        "outputId": "b8434a06-35ae-41fe-ccd9-b1356973dde4"
      },
      "execution_count": null,
      "outputs": [
        {
          "output_type": "stream",
          "name": "stdout",
          "text": [
            "15.2\n",
            "<class 'float'>\n"
          ]
        }
      ]
    },
    {
      "cell_type": "markdown",
      "source": [
        "**Aula 28 - Comentários**"
      ],
      "metadata": {
        "id": "JgeBDZjRbwl_"
      }
    },
    {
      "cell_type": "code",
      "source": [
        "# Atalho para comentários : Ctrl + /\n",
        "salario = 3450.45\n",
        "despesas = 2456.2\n",
        "\n",
        "print(salario - despesas)\n",
        "\n",
        "\"\"\"\n",
        "Comentário com\n",
        "várias linhas.\n",
        "\"\"\""
      ],
      "metadata": {
        "id": "T0uSb2LBb63G"
      },
      "execution_count": null,
      "outputs": []
    },
    {
      "cell_type": "markdown",
      "source": [
        "**Aula 29 - Operadores aritméticos**"
      ],
      "metadata": {
        "id": "NMi6bdbPFlat"
      }
    },
    {
      "cell_type": "code",
      "source": [
        "print(2 + 3)\n",
        "print(4 - 3)\n",
        "print(2 * 5.3)\n",
        "print(9.4 / 3)     #Divisão\n",
        "print(9.4 // 3)    #Divisão inteira\n",
        "print(2 ** 8)      #Potenciação\n",
        "print(10 % 3)      #Resto da divisão\n",
        "\n",
        "a = 12\n",
        "b = a\n",
        "print(a + b)"
      ],
      "metadata": {
        "colab": {
          "base_uri": "https://localhost:8080/"
        },
        "id": "vLOEOP-_FtLP",
        "outputId": "70cc35ea-03bc-4272-dc36-2aef9a9ab569"
      },
      "execution_count": null,
      "outputs": [
        {
          "output_type": "stream",
          "name": "stdout",
          "text": [
            "5\n",
            "1\n",
            "10.6\n",
            "3.1333333333333333\n",
            "3.0\n",
            "256\n",
            "1\n",
            "24\n"
          ]
        }
      ]
    },
    {
      "cell_type": "markdown",
      "source": [
        "**Aula 30 e 31- Desafio operadores aritméticos**"
      ],
      "metadata": {
        "id": "Vo4QMhn8JE_5"
      }
    },
    {
      "cell_type": "code",
      "source": [
        "#Quantos porcentos está comprometido do seu salário com as despesas?\n",
        "\n",
        "salario = 3450.45\n",
        "despesas = 2456.2\n",
        "\n",
        "percentual_comprometido = despesas / salario * 100\n",
        "print(percentual_comprometido)"
      ],
      "metadata": {
        "colab": {
          "base_uri": "https://localhost:8080/"
        },
        "id": "mewSDNUYJMsP",
        "outputId": "ae03bea3-dbe3-42f3-924a-fff62362dad6"
      },
      "execution_count": null,
      "outputs": [
        {
          "output_type": "stream",
          "name": "stdout",
          "text": [
            "71.18491790925822\n"
          ]
        }
      ]
    },
    {
      "cell_type": "markdown",
      "source": [
        "**Aula 32 - Operadores relacional**"
      ],
      "metadata": {
        "id": "AZnknKwqKlkA"
      }
    },
    {
      "cell_type": "code",
      "source": [
        "print(3 > 4)\n",
        "print(4>= 3)\n",
        "print(1 < 2)\n",
        "print(3 <= 1)\n",
        "print(3 != 2)    # diferente\n",
        "print(3 == 3)    # igual\n",
        "print(2 == 3)\n",
        "print(2 == \"3\")"
      ],
      "metadata": {
        "colab": {
          "base_uri": "https://localhost:8080/"
        },
        "id": "VqkHb2_3KqGF",
        "outputId": "8324398a-5be0-4478-9985-2b8e3cf723d6"
      },
      "execution_count": null,
      "outputs": [
        {
          "output_type": "stream",
          "name": "stdout",
          "text": [
            "False\n",
            "True\n",
            "True\n",
            "False\n",
            "True\n",
            "True\n",
            "False\n",
            "False\n"
          ]
        }
      ]
    },
    {
      "cell_type": "markdown",
      "source": [
        "**Aula 33 - Operadores de atribuição**"
      ],
      "metadata": {
        "id": "Lwzk0PuaOzvC"
      }
    },
    {
      "cell_type": "code",
      "source": [
        "a = 3\n",
        "a = a + 7\n",
        "print(a)\n",
        "a += 5 #acrescentar 5 no valor 10, que é igual a fazer a = a + 5\n",
        "print(a)\n",
        "\n",
        "a -= 3\n",
        "print(a)\n",
        "\n",
        "a *= (a)\n",
        "print(a)\n",
        "\n",
        "a /= 4\n",
        "print(a)\n",
        "\n",
        "a %= 4\n",
        "print(a)\n",
        "\n",
        "a **= 8\n",
        "print(a)\n",
        "\n",
        "a //= 256\n",
        "print(a)\n"
      ],
      "metadata": {
        "colab": {
          "base_uri": "https://localhost:8080/"
        },
        "id": "AMnuDXQEO7gW",
        "outputId": "63e5e9a4-4451-46a2-9ccf-a3d5c9e04e0d"
      },
      "execution_count": null,
      "outputs": [
        {
          "output_type": "stream",
          "name": "stdout",
          "text": [
            "10\n",
            "15\n",
            "12\n",
            "144\n",
            "36.0\n",
            "0.0\n",
            "0.0\n",
            "0.0\n"
          ]
        }
      ]
    },
    {
      "cell_type": "markdown",
      "source": [
        "**Aula 34 - Operadores lógicos**"
      ],
      "metadata": {
        "id": "iRSWafrfQPot"
      }
    },
    {
      "cell_type": "code",
      "source": [
        "True or False\n",
        "7 != 3 and 2 > 3\n",
        "\n",
        "# Tabela verdade do AND\n",
        "\n",
        "True and True\n",
        "True and False\n",
        "False and True\n",
        "False and False\n",
        "\n",
        "#Tabela verdade do OR\n",
        "\n",
        "True or True\n",
        "True or False\n",
        "False or True\n",
        "False or False\n",
        "\n",
        "#Tabela verdade do XOR\n",
        "\n",
        "True != True\n",
        "True != False\n",
        "False != True\n",
        "False != False\n",
        "\n",
        "# Operador de negação\n",
        "\n",
        "not True\n",
        "not False\n",
        "\n",
        "not 0\n",
        "not 1\n",
        "not not -1\n",
        "not not True"
      ],
      "metadata": {
        "id": "JwrHV3rzQVQ7"
      },
      "execution_count": null,
      "outputs": []
    },
    {
      "cell_type": "markdown",
      "source": [
        "**Aula 35 e 36 Desafio Operadores Lógicos**"
      ],
      "metadata": {
        "id": "OxH6Zmfv6Th6"
      }
    },
    {
      "cell_type": "code",
      "source": [
        "# Desafio operadores lógicos\n",
        "trabalho_terca = True\n",
        "trabalho_quinta = False\n",
        "\n",
        "\"\"\"\n",
        "-confirmando os dois: 50' + Sorvete\n",
        "- Confirmando apenas um: TV 32' + Sorvete\n",
        "-Nenhum confirmado: Fica em casa\n",
        "\"\"\"\n",
        "\n",
        "tv_50 = trabalho_terca and trabalho_quinta\n",
        "sorvete = trabalho_terca or trabalho_quinta\n",
        "tv_32 = trabalho_terca != trabalho_quinta   # xor\n",
        "mais_saudavel = not sorvete\n",
        "\n",
        "print(\"tv50={} Sorvete={} Saudável={}\"\n",
        ".format(tv_50, tv_32, sorvete, mais_saudavel ))\n",
        "\n",
        "\"{0}, {2} = {1}\".format(1, False,\"resultado\")\n"
      ],
      "metadata": {
        "id": "VENwvdZK6bhU"
      },
      "execution_count": null,
      "outputs": []
    },
    {
      "cell_type": "markdown",
      "source": [
        "**Aula 37 - Operadores unários**"
      ],
      "metadata": {
        "id": "n0bmqaw1N0Ha"
      }
    },
    {
      "cell_type": "code",
      "source": [],
      "metadata": {
        "id": "SWTDwon5N-mI"
      },
      "execution_count": null,
      "outputs": []
    },
    {
      "cell_type": "code",
      "source": [],
      "metadata": {
        "id": "UbA9DLo2Sbf_"
      },
      "execution_count": null,
      "outputs": []
    },
    {
      "cell_type": "code",
      "source": [],
      "metadata": {
        "id": "8f2xvP_rSbdg"
      },
      "execution_count": null,
      "outputs": []
    },
    {
      "cell_type": "markdown",
      "source": [
        "**40 - Builtins**\n",
        "\n",
        "É de onde vem as funções dir, help, type, print etc...."
      ],
      "metadata": {
        "id": "Ye_FzENtSML6"
      }
    },
    {
      "cell_type": "code",
      "source": [
        "nome = \"Cesar\"\n",
        "type(nome)\n",
        "_builtin_.len(nome)"
      ],
      "metadata": {
        "id": "iIEZ9sMraUuj"
      },
      "execution_count": null,
      "outputs": []
    },
    {
      "cell_type": "markdown",
      "source": [
        "**Aula 41 - Conversão de tipos**"
      ],
      "metadata": {
        "id": "mg6Af2oBdJu3"
      }
    },
    {
      "cell_type": "code",
      "source": [
        "2 + 3\n",
        "\"2\" + \"3\" # concatenação\n",
        "\n",
        "#print(2 + \"3\") # dá erro\n",
        "\n",
        "a = 2\n",
        "b = \"3\"\n",
        "\n",
        "print(type(a))\n",
        "print(type(b))\n",
        "\n",
        "print(a + int(b)) # converteu b de str pata int\n",
        "\n",
        "print(2 + float(\"3.4\"))"
      ],
      "metadata": {
        "colab": {
          "base_uri": "https://localhost:8080/"
        },
        "id": "Rm5R8WJwu0iF",
        "outputId": "c96b9075-eaf1-4b41-88d6-fadb3e84f3e3"
      },
      "execution_count": null,
      "outputs": [
        {
          "output_type": "stream",
          "name": "stdout",
          "text": [
            "<class 'int'>\n",
            "<class 'str'>\n",
            "5\n",
            "5.4\n"
          ]
        }
      ]
    },
    {
      "cell_type": "markdown",
      "source": [
        "** *texto em itálico*Aula 42 - Converção automática**"
      ],
      "metadata": {
        "id": "MiUPw5Msw46_"
      }
    },
    {
      "cell_type": "code",
      "source": [
        "10 / 2\n",
        "type(10 / 3)\n",
        "\n",
        "10 // 3\n",
        "type(10 // 3)"
      ],
      "metadata": {
        "colab": {
          "base_uri": "https://localhost:8080/"
        },
        "id": "pqMrLJzsxAHs",
        "outputId": "18399ade-c62a-41a5-b53a-a99247096b75"
      },
      "execution_count": null,
      "outputs": [
        {
          "output_type": "execute_result",
          "data": {
            "text/plain": [
              "int"
            ]
          },
          "metadata": {},
          "execution_count": 8
        }
      ]
    },
    {
      "cell_type": "markdown",
      "source": [
        "**Aula 43 - Números #01**"
      ],
      "metadata": {
        "id": "hx7Uevydx4Fd"
      }
    },
    {
      "cell_type": "code",
      "source": [
        "dir(int)\n",
        "dir(float)\n",
        "\n",
        "a = 5\n",
        "b = 2.5\n",
        "a / b\n",
        "\n",
        "\n"
      ],
      "metadata": {
        "id": "EGzWYpTTx9aL"
      },
      "execution_count": null,
      "outputs": []
    },
    {
      "cell_type": "markdown",
      "source": [
        "**Aula 44 - Números #02**"
      ],
      "metadata": {
        "id": "B09L_1Iusxrt"
      }
    },
    {
      "cell_type": "code",
      "source": [
        "#1.1 + 2.2\n",
        "from decimal import Decimal, getcontext\n",
        "Decimal(1) / Decimal(7)\n",
        "\n",
        "getcontext().prec = 4\n",
        "Decimal(1) / Decimal(7)\n",
        "Decimal.max(Decimal(1), Decimal(7))"
      ],
      "metadata": {
        "colab": {
          "base_uri": "https://localhost:8080/"
        },
        "id": "IJjfUUyes903",
        "outputId": "242f7019-f81b-42fc-b31c-4bee0bfea386"
      },
      "execution_count": null,
      "outputs": [
        {
          "output_type": "execute_result",
          "data": {
            "text/plain": [
              "Decimal('7')"
            ]
          },
          "metadata": {},
          "execution_count": 5
        }
      ]
    },
    {
      "cell_type": "markdown",
      "source": [
        "**Aula 45 - Strings #01**"
      ],
      "metadata": {
        "id": "ospVeL4pvPKS"
      }
    },
    {
      "cell_type": "code",
      "source": [
        "dir(str)\n",
        "nome = \"Saulo Pedro\"   #String é indexada e não pode ser modificada\n",
        "\n",
        "# 'marca D'água' # Dá erro\n",
        "\n",
        "\"marca D'Ávila\"  ==  'marca d\\'Avila' #  \\ iscaipe\n",
        "\n",
        "doc = \"\"\"Texto com múltiplas\n",
        "...linhas\"\"\"\n",
        "doc\n",
        "\n",
        "print('Texto com múltiplas\\n... linhas')\n",
        "print(doc)\n",
        "\n"
      ],
      "metadata": {
        "id": "Caj8AFsgvWXx",
        "colab": {
          "base_uri": "https://localhost:8080/"
        },
        "outputId": "d8731ab1-3e95-450d-fe70-27fcf3c0fc63"
      },
      "execution_count": null,
      "outputs": [
        {
          "output_type": "stream",
          "name": "stdout",
          "text": [
            "Texto com múltiplas\n",
            "... linhas\n",
            "Texto com múltiplas \n",
            "...linhas\n"
          ]
        }
      ]
    },
    {
      "cell_type": "markdown",
      "source": [
        "**Aula 46 - #02**"
      ],
      "metadata": {
        "id": "8k6NNEpBoWdl"
      }
    },
    {
      "cell_type": "code",
      "source": [
        "nome = \"Ana Paula\"\n",
        "nome[0]  # Acessando a lêtra que está no ídice\n",
        "nome[6]\n",
        "nome[-1]\n",
        "nome[4:]  #para acessar um range, um conjunto de lêtras\n",
        "nome[:-5]\n",
        "\n",
        "nome = \"1234567890\"\n",
        "nome[::2] # steep 13579\n",
        "nome[::-2]"
      ],
      "metadata": {
        "colab": {
          "base_uri": "https://localhost:8080/",
          "height": 36
        },
        "id": "Nc1CWTsWodqF",
        "outputId": "a7e7bddc-94e6-4602-b59b-9e123cc02113"
      },
      "execution_count": null,
      "outputs": [
        {
          "output_type": "execute_result",
          "data": {
            "text/plain": [
              "'08642'"
            ],
            "application/vnd.google.colaboratory.intrinsic+json": {
              "type": "string"
            }
          },
          "metadata": {},
          "execution_count": 13
        }
      ]
    },
    {
      "cell_type": "markdown",
      "source": [
        "Aula 47 #03"
      ],
      "metadata": {
        "id": "DCd7AYT3rPSG"
      }
    },
    {
      "cell_type": "code",
      "source": [
        "frase = \"Python é uma linguagem excelente\"\n",
        "#\"py\" in frase\"\n",
        "\"py\" not in frase\n",
        "len(frase)  # ver o número de cacteres\n",
        "frase.lower() #colocar a frase com lêtras minúsculas\n",
        "\n",
        "frase.split()\n",
        "frase.split(\"e\") # retira todas as lêtras \"e\" da frase"
      ],
      "metadata": {
        "colab": {
          "base_uri": "https://localhost:8080/"
        },
        "id": "DOLMc0LyrTVw",
        "outputId": "2316d6ce-8b7f-4a2a-d707-cce328f9579a"
      },
      "execution_count": null,
      "outputs": [
        {
          "output_type": "execute_result",
          "data": {
            "text/plain": [
              "['Python é uma linguag', 'm ', 'xc', 'l', 'nt', '']"
            ]
          },
          "metadata": {},
          "execution_count": 21
        }
      ]
    },
    {
      "cell_type": "markdown",
      "source": [
        "**Aula48 #04**"
      ],
      "metadata": {
        "id": "OdpYqcfCt_5C"
      }
    },
    {
      "cell_type": "code",
      "source": [
        "# Métodos mágicos\n",
        "_add_(b)"
      ],
      "metadata": {
        "id": "cNozpyJluEjq"
      },
      "execution_count": null,
      "outputs": []
    },
    {
      "cell_type": "markdown",
      "source": [
        "**Aula 49 - Listas #0**1"
      ],
      "metadata": {
        "id": "jzvHm6gXvlGM"
      }
    },
    {
      "cell_type": "code",
      "source": [
        "lista = []\n",
        "type(lista)\n",
        "dir(lista)\n",
        "# help(list)\n",
        "len(lista)    # ver o tamanho da lista\n",
        "lista.append(1) #introduz um número a lista\n",
        "lista.append(5)\n",
        "lista.append([1, 2, 3]) #Colocar uma lista dentro de outra lista\n",
        "lista\n",
        "len(lista)\n",
        "\n",
        "nova_lista = [1, 5, \"Ana\", \"Bia\"]\n",
        "nova_lista\n",
        "nova_lista.remove(5) #removendo o item 5\n",
        "nova_lista\n",
        "nova_lista.reverse() #altera a ordem da lista\n",
        "nova_lista\n",
        "\n",
        "lista\n",
        "\n"
      ],
      "metadata": {
        "id": "h3cdDjnuvqpf",
        "colab": {
          "base_uri": "https://localhost:8080/"
        },
        "outputId": "f1f65fb1-1ecf-417a-9bde-35e2eb7fdee0"
      },
      "execution_count": null,
      "outputs": [
        {
          "output_type": "execute_result",
          "data": {
            "text/plain": [
              "[1, 5, [1, 2, 3]]"
            ]
          },
          "metadata": {},
          "execution_count": 16
        }
      ]
    },
    {
      "cell_type": "markdown",
      "source": [
        "**Aula 50 - Lista #02**"
      ],
      "metadata": {
        "id": "fIlk2EDo_UXQ"
      }
    },
    {
      "cell_type": "code",
      "source": [
        "lista = [1, 5, \"Rebeca\", \"Guilherme\", 3.1415]\n",
        "lista.index(\"Guilherme\") # Achar a posição de Guilherme na lista pelo seu índice\n",
        "\n",
        "#Não acesssar um elemento fora da lista que dá erro\n",
        "\n",
        "lista[2]  # Saber quem está na posição indice 2 da lista\n",
        "lista[-1]"
      ],
      "metadata": {
        "colab": {
          "base_uri": "https://localhost:8080/"
        },
        "id": "DmMjBb1O_eNp",
        "outputId": "a5ac55b6-9d9c-48d2-ea17-9759bbb633f8"
      },
      "execution_count": null,
      "outputs": [
        {
          "output_type": "execute_result",
          "data": {
            "text/plain": [
              "3.1415"
            ]
          },
          "metadata": {},
          "execution_count": 21
        }
      ]
    },
    {
      "cell_type": "markdown",
      "source": [
        "Aula 51 - Lista #03"
      ],
      "metadata": {
        "id": "D0VfMpDeA9Cz"
      }
    },
    {
      "cell_type": "code",
      "source": [
        "lista = [\"Ana\", \"Lia\", \"Rui\", \"Paulo\", \"Dani\"]\n",
        "lista[1:3]\n",
        "lista[:]\n",
        "lista[::-1]\n",
        "del lista[2]  #excluir o objeto do índice 2\n",
        "lista"
      ],
      "metadata": {
        "colab": {
          "base_uri": "https://localhost:8080/"
        },
        "id": "S8fESKyCBBmV",
        "outputId": "a0b9d8a7-a670-4e7b-c758-0537d342a527"
      },
      "execution_count": null,
      "outputs": [
        {
          "output_type": "execute_result",
          "data": {
            "text/plain": [
              "['Ana', 'Lia', 'Paulo', 'Dani']"
            ]
          },
          "metadata": {},
          "execution_count": 27
        }
      ]
    },
    {
      "cell_type": "markdown",
      "source": [
        "**Aula 52 - Tuplas**"
      ],
      "metadata": {
        "id": "6sb9h8raCPcI"
      }
    },
    {
      "cell_type": "code",
      "source": [
        "# A Tupla é uma sequqência imutável. (Tuple is an immutable sequence) - Tuplas são uma sequência (grupo ordenado)\n",
        "# de elementos (items) separados por vírgulas, delimitados ou não por parênteses, isto é, os parênteses não são obrigatórios.\n",
        "# Pode-se ainda misturar elementos de tipos diferentes. Porém, ao contrário de listas, as tuplas são imutáveis.\n",
        "\n",
        "tupla = tuple()\n",
        "tupla = ()\n",
        "dir(tupla)\n",
        "# help(tupla)\n",
        "type(tupla)\n",
        "tupla = ('um',) # é uma tupla . Assim : tupla = ('um') é uma str\n",
        "\n",
        "cores = ('verde', 'amarelo', 'azul', 'azul', 'branco')\n",
        "cores[0]\n",
        "cores[-1] # Acessando elemento de ídice -1\n",
        "cores.index(\"amarelo\")   # saber qual o indice é do elemento\n",
        "cores.count('azul')  #saber quantos elementos escrito azul tem na tupla\n",
        "len(cores)  # Sabaer quantos elementos tem na tupla\n",
        "\n",
        "#Obs: A tupla não pode ser modificada e a lista pode.\n",
        "# A sintaxe da lista é colchete e da tupla é parênteses\n",
        "\n"
      ],
      "metadata": {
        "id": "dGacWz35CWzq",
        "colab": {
          "base_uri": "https://localhost:8080/"
        },
        "outputId": "6e2d2879-8d96-4abc-9e48-8a473c7ae23c"
      },
      "execution_count": null,
      "outputs": [
        {
          "output_type": "execute_result",
          "data": {
            "text/plain": [
              "5"
            ]
          },
          "metadata": {},
          "execution_count": 27
        }
      ]
    },
    {
      "cell_type": "markdown",
      "source": [
        "\n",
        "\n",
        "```\n",
        "# Isto está formatado como código\n",
        "```\n",
        "\n",
        "**Aula 53 - Dicionário #0**1\n",
        "\n",
        "è uma estrutura chave / valor\n"
      ],
      "metadata": {
        "id": "8jTmzhbCqTwW"
      }
    },
    {
      "cell_type": "code",
      "source": [
        "pessoa = {\"nome\": \"Prof(a). Ana\", \"idade\": 38, \"cursos\": [\"Inglês\", \"Português\"]}\n",
        "type(pessoa)\n",
        "dir(dict)\n",
        "len(pessoa) # para ver a quantidade de pares chave/valor\n",
        "pessoa [\"idade\"]\n",
        "pessoa.keys()  # pegar as chaves do dicionério\n",
        "pessoa.values()  pegando os valores no dicionário\n",
        "\n",
        "\n",
        "\n"
      ],
      "metadata": {
        "id": "4Edl-x16qZ7H",
        "outputId": "088b411a-9471-49e8-ff65-ebbe39591d9a",
        "colab": {
          "base_uri": "https://localhost:8080/"
        }
      },
      "execution_count": 11,
      "outputs": [
        {
          "output_type": "execute_result",
          "data": {
            "text/plain": [
              "dict_values(['Prof(a). Ana', 38, ['Inglês', 'Português']])"
            ]
          },
          "metadata": {},
          "execution_count": 11
        }
      ]
    },
    {
      "cell_type": "code",
      "source": [],
      "metadata": {
        "id": "sZ4HZkPoqafz"
      },
      "execution_count": null,
      "outputs": []
    }
  ]
}