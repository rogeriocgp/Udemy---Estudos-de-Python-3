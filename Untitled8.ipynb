{
  "nbformat": 4,
  "nbformat_minor": 0,
  "metadata": {
    "colab": {
      "provenance": [],
      "authorship_tag": "ABX9TyOSi5aYcKYJRrUeavNh9GD7",
      "include_colab_link": true
    },
    "kernelspec": {
      "name": "python3",
      "display_name": "Python 3"
    },
    "language_info": {
      "name": "python"
    }
  },
  "cells": [
    {
      "cell_type": "markdown",
      "metadata": {
        "id": "view-in-github",
        "colab_type": "text"
      },
      "source": [
        "<a href=\"https://colab.research.google.com/github/rogeriocgp/Udemy---Estudos-de-Python-3/blob/main/Untitled8.ipynb\" target=\"_parent\"><img src=\"https://colab.research.google.com/assets/colab-badge.svg\" alt=\"Open In Colab\"/></a>"
      ]
    },
    {
      "cell_type": "markdown",
      "source": [
        "**UDEMY**\n",
        "\n",
        "Aula 25 - Primeiro exemplo\n",
        "Atalho para rodar o programa : **Ctrl + enter**"
      ],
      "metadata": {
        "id": "B_5Atg_8OPwR"
      }
    },
    {
      "cell_type": "code",
      "source": [
        "print(\"Olá mundo!\")\n",
        "print(\"primeiro programa\")\n",
        "print(2 + 3 + 6)\n",
        "\n",
        "help(print)"
      ],
      "metadata": {
        "id": "uSwIGExHOYJr"
      },
      "execution_count": null,
      "outputs": []
    },
    {
      "cell_type": "markdown",
      "source": [
        "Aula 26 - Tipos básicos"
      ],
      "metadata": {
        "id": "5Y7BeQ5vT5on"
      }
    },
    {
      "cell_type": "code",
      "source": [
        "print(\"True\")     #Tipo boolean\n",
        "print(\"False\")\n",
        "print(1.2 + 1)     # Tipo float\n",
        "print(\"A vida é bela.\")\n",
        "print(\"Você é \" + 3 * \" muito \" + \" legal \") # concatenação\n",
        "# print(3 + \"3\")     # Erro , dá uma ambiguidade\n",
        "print([1, 2, 3])     # Tipo Lista. Ela é indexada\n",
        "print({\"nome\": \"Pedro\", \"idade\": 22})    # Tipo dicionário é uma estrutura chave valor\n",
        "print(None)    # Tipo None é ausência de valor"
      ],
      "metadata": {
        "id": "6vDLAwyET9gx"
      },
      "execution_count": null,
      "outputs": []
    },
    {
      "cell_type": "markdown",
      "source": [
        "**Aula 27 - Variáveis**"
      ],
      "metadata": {
        "id": "Uuj3boyxYtYI"
      }
    },
    {
      "cell_type": "code",
      "source": [
        "a = 10  # atribuição na variável\n",
        "b = 5.2\n",
        "\n",
        "print(a + b)"
      ],
      "metadata": {
        "id": "O0iez-UdY2WW"
      },
      "execution_count": null,
      "outputs": []
    },
    {
      "cell_type": "code",
      "source": [
        "print"
      ],
      "metadata": {
        "id": "1k7JdnAcbZRf"
      },
      "execution_count": null,
      "outputs": []
    }
  ]
}